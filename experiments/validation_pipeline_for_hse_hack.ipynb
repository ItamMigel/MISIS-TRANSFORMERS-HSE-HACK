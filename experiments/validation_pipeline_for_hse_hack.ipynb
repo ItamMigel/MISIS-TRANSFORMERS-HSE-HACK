{
  "nbformat": 4,
  "nbformat_minor": 0,
  "metadata": {
    "colab": {
      "provenance": []
    },
    "kernelspec": {
      "name": "python3",
      "display_name": "Python 3"
    },
    "language_info": {
      "name": "python"
    }
  },
  "cells": [
    {
      "cell_type": "code",
      "execution_count": null,
      "metadata": {
        "id": "o7aULl51qjqt"
      },
      "outputs": [],
      "source": [
        "!pip install bitsandbytes accelerate transformers -qq -U"
      ]
    },
    {
      "cell_type": "code",
      "source": [
        "!git clone https://github.com/werserk/HSE-AI-Assistant-Hack-Python-baseline/"
      ],
      "metadata": {
        "id": "6nL8kwcuqkjU"
      },
      "execution_count": null,
      "outputs": []
    },
    {
      "cell_type": "code",
      "source": [
        "import sys\n",
        "sys.path.append('/content/HSE-AI-Assistant-Hack-Python-baseline')"
      ],
      "metadata": {
        "id": "aygzJsJAqkls"
      },
      "execution_count": null,
      "outputs": []
    },
    {
      "cell_type": "code",
      "source": [
        "!nvidia-smi"
      ],
      "metadata": {
        "id": "eII3ocPcqkoe"
      },
      "execution_count": null,
      "outputs": []
    },
    {
      "cell_type": "code",
      "source": [
        "from transformers import AutoModelForCausalLM, AutoTokenizer, BitsAndBytesConfig\n",
        "import torch\n",
        "\n",
        "model_name = 'Vikhrmodels/Vikhr-Nemo-12B-Instruct-R-21-09-24'\n",
        "tokenizer = AutoTokenizer.from_pretrained(model_name, use_fast=False)\n",
        "\n",
        "model = AutoModelForCausalLM.from_pretrained(\n",
        "    \"Vikhrmodels/Vikhr-Nemo-12B-Instruct-R-21-09-24\",\n",
        "    device_map='cuda',\n",
        "    torch_dtype=torch.float16\n",
        ")"
      ],
      "metadata": {
        "id": "dMZEsxYtqpwt"
      },
      "execution_count": null,
      "outputs": []
    },
    {
      "cell_type": "code",
      "source": [
        "from transformers import pipeline\n",
        "\n",
        "messages = [\n",
        "    {\"role\": \"user\", \"content\": \"Who are you?\"}\n",
        "]\n",
        "\n",
        "pipe = pipeline(\"text-generation\", model=model, tokenizer=tokenizer)\n",
        "pipe(messages)"
      ],
      "metadata": {
        "id": "MOtUQnrmqpzX"
      },
      "execution_count": null,
      "outputs": []
    },
    {
      "cell_type": "code",
      "source": [
        "pipe(messages, max_new_tokens=100)"
      ],
      "metadata": {
        "id": "p8Nyg6klqp2c"
      },
      "execution_count": null,
      "outputs": []
    },
    {
      "cell_type": "markdown",
      "source": [
        "## Data analysis (train)"
      ],
      "metadata": {
        "id": "Tvxoo5MaqykI"
      }
    },
    {
      "cell_type": "code",
      "source": [
        "import pandas as pd\n",
        "import numpy as np"
      ],
      "metadata": {
        "id": "GaLqYfPeqp4Y"
      },
      "execution_count": null,
      "outputs": []
    },
    {
      "cell_type": "code",
      "source": [
        "!pip install openpyxl -q"
      ],
      "metadata": {
        "id": "lf0MkVYMqp72"
      },
      "execution_count": null,
      "outputs": []
    },
    {
      "cell_type": "code",
      "source": [
        "path = \"/home/jovyan/\""
      ],
      "metadata": {
        "id": "MeUJ2nEEqp-F"
      },
      "execution_count": null,
      "outputs": []
    },
    {
      "cell_type": "code",
      "source": [
        "train_solutions = pd.read_excel(path + 'train/solutions.xlsx')\n",
        "train_solutions = train_solutions.reset_index(drop=True)"
      ],
      "metadata": {
        "id": "tgU2-UhyqqBL"
      },
      "execution_count": null,
      "outputs": []
    },
    {
      "cell_type": "code",
      "source": [
        "train_tasks = pd.read_excel(path + 'train/tasks.xlsx')\n",
        "train_tasks = train_tasks.reset_index(drop=True)"
      ],
      "metadata": {
        "id": "gBm5X24KqpIP"
      },
      "execution_count": null,
      "outputs": []
    },
    {
      "cell_type": "code",
      "source": [
        "train_tests = pd.read_excel(path + 'train/tests.xlsx')\n",
        "train_tests = train_tests.reset_index(drop=True)"
      ],
      "metadata": {
        "id": "gF6vGB4lqpMW"
      },
      "execution_count": null,
      "outputs": []
    },
    {
      "cell_type": "code",
      "source": [
        "print(train_solutions.shape, train_tasks.shape, train_tests.shape)"
      ],
      "metadata": {
        "id": "6rjuyKWFqpP-"
      },
      "execution_count": null,
      "outputs": []
    },
    {
      "cell_type": "code",
      "source": [
        "solution1 = train_solutions.loc[(train_solutions['task_id'] == 39) & (train_solutions['id'] == 619), 'student_solution'].item()\n",
        "solution1"
      ],
      "metadata": {
        "id": "4Nw5cNBOqpRw"
      },
      "execution_count": null,
      "outputs": []
    },
    {
      "cell_type": "code",
      "source": [
        "task1 = train_tasks[train_tasks['id']==39]['description'].iloc[0]\n",
        "task1"
      ],
      "metadata": {
        "id": "_tPXQSjHqpVH"
      },
      "execution_count": null,
      "outputs": []
    },
    {
      "cell_type": "code",
      "source": [
        "comment = train_solutions[(train_solutions['task_id']==39) & (train_solutions['id'] == 619)]['author_comment'].item()\n",
        "comment"
      ],
      "metadata": {
        "id": "GolMzsw-qpXN"
      },
      "execution_count": null,
      "outputs": []
    },
    {
      "cell_type": "markdown",
      "source": [
        "### WORKING ZONE, DANILA ZDES"
      ],
      "metadata": {
        "id": "N8qNpUJ6rAfw"
      }
    },
    {
      "cell_type": "code",
      "source": [
        "system_prompt = \"\"\"Ты преподаватель Высшей школы экономики. Твоя задача, получив ЗАДАЧУ и РЕШЕНИЕ дать подсказку ученику, где находится ошибка в его РЕШЕНИИ. Прямо напиши где ошибка.\n",
        "\n",
        "Не пиши большой ответ. Пиши только подсказку, которая поможет студенту двигаться в правильном направлении, но не видеть весь ответ сразу. Люди не должны догадаться, что ты робот.\n",
        "\n",
        "Пример:\n",
        "Ввод:\n",
        "ЗАДАЧА:\n",
        "Реализуйте следующую программу:\\n\\nВ переменную agencies считывается список названий агентств. Этот код уже написан.\\nПрограмма проверяет, какие названия агентств оканчиваются на \"ум\". Если такие строки есть, то программа сохраняет их в отдельный список.\\nВ конце программа печатает отсортированный в алфавитном порядке список с названиями агентств, которые были туда сохранены.\\nЕсли таких строк нет, программа печатает пустой список.\n",
        "РЕШЕНИЕ СТУДЕНТА (НЕ СМОТРИ НА СПЕЦИАЛЬНЫЕ СИМВОЛЫ):\n",
        "agencies = input().split()\\nus = []\\n\\nfor agency in agencies:\\n    if agency.endswith(ум):\\n        us.append(agency)\\n        \\nprint(sorted(us))\n",
        "ОЖИДАЕМЫЙ ОТВЕТ:\n",
        "Вы забыли заключить \"ум\" в кавычки.\n",
        "\"\"\"\n",
        "prompt = f\"\"\"ЗАДАЧА: {task1}, РЕШЕНИЕ СТУДЕНТА: {solution1}\"\"\"\n",
        "\n",
        "messages = [\n",
        "    {\"role\": \"system\", \"content\": system_prompt},\n",
        "    {\"role\": \"user\", \"content\": prompt},\n",
        "]\n",
        "answer = pipe(messages, max_length=4096)[0]['generated_text'][-1]['content']\n",
        "print(answer)"
      ],
      "metadata": {
        "id": "HPz_nMuKqpZL"
      },
      "execution_count": null,
      "outputs": []
    },
    {
      "cell_type": "code",
      "source": [
        "# соберем наш датасет\n",
        "final_train_df = pd.read_csv(path + 'train_database.csv')\n",
        "train_solutions_df = pd.read_excel(path + 'train/solutions.xlsx')"
      ],
      "metadata": {
        "id": "IwQ9GHq7qpbG"
      },
      "execution_count": null,
      "outputs": []
    },
    {
      "cell_type": "code",
      "source": [
        "# по train_solutions_df идем и подтягиваем по task_id данные из final_train_df\n",
        "description = 'a'\n",
        "input = 'a'\n",
        "output = 'a'\n",
        "student_solution = 'a'\n",
        "author_solution = 'a'\n",
        "author_comment = 'a'\n",
        "test_type = 'a'\n",
        "\n",
        "res = []\n",
        "for i in range(len(input)): # input из колонки input в new_df\n",
        "  res.append(f\"\\n<Example {i+1}>: \\n<Тип теста {i+1}>: {test_type} \\n<Ввод>: {input} \\n<Вывод>: {output}\")\n",
        "\n",
        "result = ' '.join(res)\n",
        "prompt = f\"<Task description>: {description} {result} \\n<Решение студента>: {student_solution} \\n<Идеальное решение>: {author_solution} \\n<Комментарий эксперта>: {author_comment}\"\n",
        "print(prompt)"
      ],
      "metadata": {
        "id": "Lix25bBLqpeo"
      },
      "execution_count": null,
      "outputs": []
    },
    {
      "cell_type": "code",
      "source": [
        "final_train_df.shape, train_solutions_df.shape"
      ],
      "metadata": {
        "id": "9KUq-Fktqpgo"
      },
      "execution_count": null,
      "outputs": []
    },
    {
      "cell_type": "code",
      "source": [
        "final_train_df.nunique()"
      ],
      "metadata": {
        "id": "-JnDMDqRqkqy"
      },
      "execution_count": null,
      "outputs": []
    },
    {
      "cell_type": "code",
      "source": [
        "final_train_df.sample(2)"
      ],
      "metadata": {
        "id": "9Z_gnefOrKxM"
      },
      "execution_count": null,
      "outputs": []
    },
    {
      "cell_type": "code",
      "source": [
        "train_solutions_df.sample(2)"
      ],
      "metadata": {
        "id": "eZvXEz2PrK0d"
      },
      "execution_count": null,
      "outputs": []
    },
    {
      "cell_type": "code",
      "source": [
        "train_solutions_df.nunique()"
      ],
      "metadata": {
        "id": "ElDwItsWrK2T"
      },
      "execution_count": null,
      "outputs": []
    },
    {
      "cell_type": "code",
      "source": [
        "new_df = {'id': [], 'task_id': [], 'description': [],\n",
        "          'input': [], 'output': [], 'student_solution': [],\n",
        "          'author_solution': [], 'author_comment': [], 'type': []}"
      ],
      "metadata": {
        "id": "cAsHkc3wrK5y"
      },
      "execution_count": null,
      "outputs": []
    },
    {
      "cell_type": "code",
      "source": [
        "for index, row in train_solutions_df.iterrows():\n",
        "    new_df['id'].append(row['id'])\n",
        "    new_df['task_id'].append(row['task_id'])\n",
        "    new_df['student_solution'].append(row['student_solution'])\n",
        "    new_df['author_comment'].append(row['author_comment'])\n",
        "    inp = final_train_df[final_train_df['task_id'] == row['task_id']]['input'].tolist()\n",
        "    out = final_train_df[final_train_df['task_id'] == row['task_id']]['output'].tolist()\n",
        "    new_df['input'].append(inp)\n",
        "    new_df['output'].append(out)\n",
        "    test_type = final_train_df[final_train_df['task_id'] == row['task_id']]['type'].tolist()\n",
        "    new_df['type'].append(test_type)\n",
        "    description = final_train_df[final_train_df['task_id'] == row['task_id']]['description'].tolist()[0]\n",
        "    new_df['description'].append(description)\n",
        "    author_solution = final_train_df[final_train_df['task_id'] == row['task_id']]['author_solution'].tolist()[0]\n",
        "    new_df['author_solution'].append(author_solution)"
      ],
      "metadata": {
        "id": "9yaTHfj4rK7u"
      },
      "execution_count": null,
      "outputs": []
    },
    {
      "cell_type": "code",
      "source": [
        "new_df = pd.DataFrame(new_df)"
      ],
      "metadata": {
        "id": "y8yFOugnrK-C"
      },
      "execution_count": null,
      "outputs": []
    },
    {
      "cell_type": "code",
      "source": [
        "new_df.shape"
      ],
      "metadata": {
        "id": "qNd2_CTcrLBD"
      },
      "execution_count": null,
      "outputs": []
    },
    {
      "cell_type": "code",
      "source": [
        "new_df.sample(3)"
      ],
      "metadata": {
        "id": "rdcwssEArSl-"
      },
      "execution_count": null,
      "outputs": []
    },
    {
      "cell_type": "code",
      "source": [
        "final_prompt = []\n",
        "for index, row in new_df.iterrows():\n",
        "  description = row['description']\n",
        "  res = []\n",
        "  for i in range(len(row['input'])):\n",
        "    res.append(f\"\\n<Example {i+1}>: \\n<Тип теста {i+1}>: {row['type'][i]} \\n<Ввод>: {row['input'][i]} \\n<Вывод>: {row['output'][i]}\")\n",
        "  result = ' '.join(res)\n",
        "  student_solution = row['student_solution']\n",
        "  author_solution = row['author_solution']\n",
        "  author_comment = row['author_comment']\n",
        "  prompt = f\"<Task description>: {description} {result} \\n<Решение студента>: {student_solution} \\n<Идеальное решение>: {author_solution} \\n\\n\\n<Комментарий эксперта>: {author_comment}\"\n",
        "  final_prompt.append(prompt)"
      ],
      "metadata": {
        "id": "2QMg9KONrSpL"
      },
      "execution_count": null,
      "outputs": []
    },
    {
      "cell_type": "code",
      "source": [
        "new_df['prompt'] = final_prompt"
      ],
      "metadata": {
        "id": "zziPr151rSrC"
      },
      "execution_count": null,
      "outputs": []
    },
    {
      "cell_type": "code",
      "source": [
        "new_df.shape"
      ],
      "metadata": {
        "id": "MXNdh9lxrSs8"
      },
      "execution_count": null,
      "outputs": []
    },
    {
      "cell_type": "code",
      "source": [
        "new_df.sample(2)"
      ],
      "metadata": {
        "id": "lxIeDaVRrSv4"
      },
      "execution_count": null,
      "outputs": []
    },
    {
      "cell_type": "code",
      "source": [
        "new_df.to_csv('new_df_for_model.csv')"
      ],
      "metadata": {
        "id": "SV1dw7jArLDF"
      },
      "execution_count": null,
      "outputs": []
    },
    {
      "cell_type": "markdown",
      "source": [
        "### Инференс"
      ],
      "metadata": {
        "id": "tf2cWEjJrbwH"
      }
    },
    {
      "cell_type": "code",
      "source": [
        "path = \"/home/jovyan/\""
      ],
      "metadata": {
        "id": "C7tajdWnrZ-e"
      },
      "execution_count": null,
      "outputs": []
    },
    {
      "cell_type": "code",
      "source": [
        "final_test_df = pd.read_csv(path + 'test_database.csv')\n",
        "test_solutions = pd.read_excel(path + 'test/solutions.xlsx')"
      ],
      "metadata": {
        "id": "jlEgYQ-araA9"
      },
      "execution_count": null,
      "outputs": []
    },
    {
      "cell_type": "code",
      "source": [
        "final_test_df.shape, test_solutions.shape"
      ],
      "metadata": {
        "id": "nF9OB7K4raC7"
      },
      "execution_count": null,
      "outputs": []
    },
    {
      "cell_type": "code",
      "source": [
        "test_solutions.sample(2)"
      ],
      "metadata": {
        "id": "NeNarZlIraFv"
      },
      "execution_count": null,
      "outputs": []
    },
    {
      "cell_type": "code",
      "source": [
        "final_test_df.sample(2)"
      ],
      "metadata": {
        "id": "QqbSA1TOraH-"
      },
      "execution_count": null,
      "outputs": []
    },
    {
      "cell_type": "code",
      "source": [
        "new_test_df = {'id': [], 'task_id': [], 'description': [],\n",
        "          'input': [], 'output': [], 'student_solution': [],\n",
        "          'author_solution': [], 'author_comment': [], 'type': []}"
      ],
      "metadata": {
        "id": "IB0pt5b0raK1"
      },
      "execution_count": null,
      "outputs": []
    },
    {
      "cell_type": "code",
      "source": [
        "for index, row in test_solutions.iterrows():\n",
        "    new_test_df['id'].append(row['id'])\n",
        "    new_test_df['task_id'].append(row['task_id'])\n",
        "    new_test_df['student_solution'].append(row['student_solution'])\n",
        "    new_test_df['author_comment'].append('')\n",
        "    inp = final_test_df[final_test_df['task_id'] == row['task_id']]['input'].tolist()\n",
        "    out = final_test_df[final_test_df['task_id'] == row['task_id']]['output'].tolist()\n",
        "    new_test_df['input'].append(inp)\n",
        "    new_test_df['output'].append(out)\n",
        "    test_type = final_test_df[final_test_df['task_id'] == row['task_id']]['type'].tolist()\n",
        "    new_test_df['type'].append(test_type)\n",
        "    description = final_test_df[final_test_df['task_id'] == row['task_id']]['description'].tolist()[0]\n",
        "    new_test_df['description'].append(description)\n",
        "    author_solution = final_test_df[final_test_df['task_id'] == row['task_id']]['author_solution'].tolist()[0]\n",
        "    new_test_df['author_solution'].append(author_solution)"
      ],
      "metadata": {
        "id": "XReqyUMQrLGR"
      },
      "execution_count": null,
      "outputs": []
    },
    {
      "cell_type": "code",
      "source": [
        "new_test_df = pd.DataFrame(new_test_df)"
      ],
      "metadata": {
        "id": "RU9gcs2KrkQV"
      },
      "execution_count": null,
      "outputs": []
    },
    {
      "cell_type": "code",
      "source": [
        "new_test_df.shape"
      ],
      "metadata": {
        "id": "MS0n3OyyrkTo"
      },
      "execution_count": null,
      "outputs": []
    },
    {
      "cell_type": "code",
      "source": [
        "new_test_df.sample(2)"
      ],
      "metadata": {
        "id": "dYYGsAZDrkYf"
      },
      "execution_count": null,
      "outputs": []
    },
    {
      "cell_type": "code",
      "source": [
        "final_test_prompt = []\n",
        "for index, row in new_test_df.iterrows():\n",
        "  description = row['description']\n",
        "  res = []\n",
        "  for i in range(len(row['input'])):\n",
        "    res.append(f\"\\n<Example {i+1}>: \\n<Тип теста {i+1}>: {row['type'][i]} \\n<Ввод>: {row['input'][i]} \\n<Вывод>: {row['output'][i]}\")\n",
        "  result = ' '.join(res)\n",
        "  student_solution = row['student_solution']\n",
        "  author_solution = row['author_solution']\n",
        "  author_comment = row['author_comment']\n",
        "  prompt = f\"<Task description>: {description} {result} \\n<Решение студента>: {student_solution} \\n<Идеальное решение>: {author_solution} \\n\\n\\n<Комментарий эксперта>: {author_comment}\"\n",
        "  final_test_prompt.append(prompt)"
      ],
      "metadata": {
        "id": "1KY-RFsKrka4"
      },
      "execution_count": null,
      "outputs": []
    },
    {
      "cell_type": "code",
      "source": [
        "new_test_df['prompt'] = final_test_prompt"
      ],
      "metadata": {
        "id": "0D-d_nn4rkd0"
      },
      "execution_count": null,
      "outputs": []
    },
    {
      "cell_type": "code",
      "source": [
        "new_test_df.shape"
      ],
      "metadata": {
        "id": "GVpulu9krkf7"
      },
      "execution_count": null,
      "outputs": []
    },
    {
      "cell_type": "code",
      "source": [
        "new_test_df.sample(2)"
      ],
      "metadata": {
        "id": "XsmSkTgvrki9"
      },
      "execution_count": null,
      "outputs": []
    },
    {
      "cell_type": "code",
      "source": [
        "print(new_test_df['prompt'][0])"
      ],
      "metadata": {
        "id": "-5HXlWNxrklX"
      },
      "execution_count": null,
      "outputs": []
    },
    {
      "cell_type": "code",
      "source": [
        "new_test_df.to_csv('new_test_df_for_inference.csv')"
      ],
      "metadata": {
        "id": "jC8N8TL3qkth"
      },
      "execution_count": null,
      "outputs": []
    },
    {
      "cell_type": "code",
      "source": [
        "system_prompt = \"\"\"\n",
        "\n",
        "###INSTRUCTIONS###\n",
        "\n",
        "You MUST ALWAYS:\n",
        "- Answer in russian language\n",
        "- I have no fingers and the placeholders trauma. NEVER use placeholders or omit the code\n",
        "- You will be PENALIZED for wrong answers\n",
        "- NEVER HALLUCINATE\n",
        "- You DENIED to overlook the critical context\n",
        "- ALWAYS follow ###Answering rules###\n",
        "\n",
        "###Answering Rules###\n",
        "\n",
        "Follow in the strict order:\n",
        "\n",
        "1. USE the language of my message\n",
        "2. You MUST combine your deep knowledge of the topic and clear thinking to quickly and accurately decipher the answer step-by-step with CONCRETE details\n",
        "3. I'm going to tip $1,000,000 for the best reply\n",
        "4. Your answer is critical for my career\n",
        "5. Answer the question in a natural, human-like manner\n",
        "\n",
        "You are a world-famous expert in teaching, known for your ability to deeply understand your students' thought processes and guide them toward the correct solutions. Your role is to receive solutions to problems from a student, analyze their approach, and provide thoughtful, personalized feedback. Your focus is on helping the student understand where they might have made a mistake or overlooked something without giving away the correct answer directly. Write directly where the mistake is. Do not write a long answer. Provide only a hint that guides the student in the right direction, without giving away the full solution. People should not guess that you are an AI. We will break the problem into smaller steps and focus on understanding each part by comparing the student's solution with the ideal one.\n",
        "\n",
        "###CHAIN OF THOUGHT###\n",
        "\n",
        "1. Clarify the Task: Restate the problem in simpler terms, focusing on what the student is trying to achieve.\n",
        "2. Compare the Solutions: Directly compare the student's solution with the ideal solution:\n",
        "   - Step 1: Analyze the input handling in both solutions. Are there any differences?\n",
        "   - Step 2: Compare how conditions are checked in the student’s code versus the ideal solution. What differences do you observe?\n",
        "   - Step 3: Identify specific points where the student’s logic deviates from the ideal solution.\n",
        "3. Spot the Issue: Pinpoint where the logic in the student’s solution is incorrect:\n",
        "   - {Provide a hint about the nature of the error without giving away the solution}.\n",
        "4. Suggest an Improvement: Offer guidance on how to adjust the code to match the logic of the ideal solution, emphasizing where changes should be made.\n",
        "\n",
        "Remember, making mistakes is part of learning. Think about each step carefully, and let’s find the best way to improve.\n",
        "Example:\n",
        "(Your task is to respond just as concisely and without giving the exact solution, like after <Expert's Comment>:): <Task description>: Реализуйте программу, которая напечатает хэштеги из фраз для лендинга сайта: \\n\\nВ переменную logo считывается текст лендинга. Этот код уже написан.\\nПрограмма проверяет, есть ли в этом тексте хэштеги.  Хэштегами можно считать все элементы, которые начинаются со знака \"#\" и которые не состоят только из цифр (не включая знак \"#\"). Гарантируется, что хэштеги отделены от другого текста пробелом. \\nВ конце программа печатает все хэштеги через запятую с пробелом. Хэштеги выводятся в том же порядке, в котором они идут в тексте.\\nЕсли знаков хэштегов в тексте нет, то программа ничего не печатает. \\n<Example 1>: \\n<Тип теста 1>: open \\n<Ввод>: Выучите китайский язык без усилий выполняя задания в приложении ( #the_best_app ) за #20 дней. \\n<Вывод>: #the_best_app \\n<Example 2>: \\n<Тип теста 2>: open \\n<Ввод>: Ваш вопрос ( #question ) - наш ответ ( #answer ) ! Мы всегда с Вами yf #100 % \\n<Вывод>: #question, #answer \\n<Example 3>: \\n<Тип теста 3>: open \\n<Ввод>: Мощный рывок для Вашего @бизнеса \\n<Вывод>: nan \\n<Example 4>: \\n<Тип теста 4>: closed \\n<Ввод>: Я никогда не был #счастье1 #любовь123 #123_123 qwe#qwe \\n<Вывод>: #счастье1, #любовь123, #123_123 \\n<Example 5>: \\n<Тип теста 5>: closed \\n<Ввод>: 9 из 10 экспертов рекомендуют # наш #_1223 продукт #__ . \\n<Вывод>: #, #_1223, #__ \\n<Example 6>: \\n<Тип теста 6>: closed \\n<Ввод>: # #123 #qswr_1 @qws1 $1#qwd 1#123_qwe #0 #____ #$567123 \\n<Вывод>: #, #qswr_1, #____, #$567123 \\n<Решение студента>: logo = input()\\n\\nres = []\\nfor info in logo.split:\\n    if info.startswith(\\'#\\') and info[1:].isdigit() == False:      \\n        res.append(info)\\n        \\nprint(*res, sep=\\', \\') \\n<Идеальное решение>: logo = input()\\n\\nres = []\\nfor info in logo.split():\\n    if info.startswith(\\'#\\') and info[1:].isdigit() == False:      \\n        res.append(info)\\n        \\nprint(*res, sep=\\', \\') \\n\\n\\n<Комментарий эксперта>: Вы забыли поставить скобки в методе .split().\n",
        "\n",
        "\"\"\"\n",
        "\n",
        "prompt = new_test_df['prompt'][0]\n",
        "\n",
        "messages = [\n",
        "    {\"role\": \"system\", \"content\": system_prompt},\n",
        "    {\"role\": \"user\", \"content\": prompt},\n",
        "]\n",
        "answer = pipe(messages, max_length=4096)[0]['generated_text'][-1]['content']\n",
        "print(answer)"
      ],
      "metadata": {
        "id": "dRHEvBhyqkv_"
      },
      "execution_count": null,
      "outputs": []
    },
    {
      "cell_type": "code",
      "source": [
        "from tqdm import tqdm"
      ],
      "metadata": {
        "id": "sqqUVUaYr9lZ"
      },
      "execution_count": null,
      "outputs": []
    },
    {
      "cell_type": "code",
      "source": [
        "# TEST inference\n",
        "\n",
        "system_prompt = \"\"\"\n",
        "\n",
        "###INSTRUCTIONS###\n",
        "\n",
        "You MUST ALWAYS:\n",
        "- Answer in russian language\n",
        "- I have no fingers and the placeholders trauma. NEVER use placeholders or omit the code\n",
        "- You will be PENALIZED for wrong answers\n",
        "- NEVER HALLUCINATE\n",
        "- You DENIED to overlook the critical context\n",
        "- ALWAYS follow ###Answering rules###\n",
        "\n",
        "###Answering Rules###\n",
        "\n",
        "Follow in the strict order:\n",
        "\n",
        "1. USE the language of my message\n",
        "2. You MUST combine your deep knowledge of the topic and clear thinking to quickly and accurately decipher the answer step-by-step with CONCRETE details\n",
        "3. I'm going to tip $1,000,000 for the best reply\n",
        "4. Your answer is critical for my career\n",
        "5. Answer the question in a natural, human-like manner\n",
        "\n",
        "You are a world-famous expert in teaching, known for your ability to deeply understand your students' thought processes and guide them toward the correct solutions. Your role is to receive solutions to problems from a student, analyze their approach, and provide thoughtful, personalized feedback. Your focus is on helping the student understand where they might have made a mistake or overlooked something without giving away the correct answer directly. Write directly where the mistake is. Do not write a long answer. Provide only a hint that guides the student in the right direction, without giving away the full solution. People should not guess that you are an AI. We will break the problem into smaller steps and focus on understanding each part by comparing the student's solution with the ideal one.\n",
        "\n",
        "###CHAIN OF THOUGHT###\n",
        "\n",
        "1. Clarify the Task: Restate the problem in simpler terms, focusing on what the student is trying to achieve.\n",
        "2. Compare the Solutions: Directly compare the student's solution with the ideal solution:\n",
        "   - Step 1: Analyze the input handling in both solutions. Are there any differences?\n",
        "   - Step 2: Compare how conditions are checked in the student’s code versus the ideal solution. What differences do you observe?\n",
        "   - Step 3: Identify specific points where the student’s logic deviates from the ideal solution.\n",
        "3. Spot the Issue: Pinpoint where the logic in the student’s solution is incorrect:\n",
        "   - {Provide a hint about the nature of the error without giving away the solution}.\n",
        "4. Suggest an Improvement: Offer guidance on how to adjust the code to match the logic of the ideal solution, emphasizing where changes should be made.\n",
        "\n",
        "Remember, making mistakes is part of learning. Think about each step carefully, and let’s find the best way to improve.\n",
        "Example:\n",
        "(Your task is to respond just as concisely and without giving the exact solution, like after <Expert's Comment>:): <Task description>: Реализуйте программу, которая напечатает хэштеги из фраз для лендинга сайта: \\n\\nВ переменную logo считывается текст лендинга. Этот код уже написан.\\nПрограмма проверяет, есть ли в этом тексте хэштеги.  Хэштегами можно считать все элементы, которые начинаются со знака \"#\" и которые не состоят только из цифр (не включая знак \"#\"). Гарантируется, что хэштеги отделены от другого текста пробелом. \\nВ конце программа печатает все хэштеги через запятую с пробелом. Хэштеги выводятся в том же порядке, в котором они идут в тексте.\\nЕсли знаков хэштегов в тексте нет, то программа ничего не печатает. \\n<Example 1>: \\n<Тип теста 1>: open \\n<Ввод>: Выучите китайский язык без усилий выполняя задания в приложении ( #the_best_app ) за #20 дней. \\n<Вывод>: #the_best_app \\n<Example 2>: \\n<Тип теста 2>: open \\n<Ввод>: Ваш вопрос ( #question ) - наш ответ ( #answer ) ! Мы всегда с Вами yf #100 % \\n<Вывод>: #question, #answer \\n<Example 3>: \\n<Тип теста 3>: open \\n<Ввод>: Мощный рывок для Вашего @бизнеса \\n<Вывод>: nan \\n<Example 4>: \\n<Тип теста 4>: closed \\n<Ввод>: Я никогда не был #счастье1 #любовь123 #123_123 qwe#qwe \\n<Вывод>: #счастье1, #любовь123, #123_123 \\n<Example 5>: \\n<Тип теста 5>: closed \\n<Ввод>: 9 из 10 экспертов рекомендуют # наш #_1223 продукт #__ . \\n<Вывод>: #, #_1223, #__ \\n<Example 6>: \\n<Тип теста 6>: closed \\n<Ввод>: # #123 #qswr_1 @qws1 $1#qwd 1#123_qwe #0 #____ #$567123 \\n<Вывод>: #, #qswr_1, #____, #$567123 \\n<Решение студента>: logo = input()\\n\\nres = []\\nfor info in logo.split:\\n    if info.startswith(\\'#\\') and info[1:].isdigit() == False:      \\n        res.append(info)\\n        \\nprint(*res, sep=\\', \\') \\n<Идеальное решение>: logo = input()\\n\\nres = []\\nfor info in logo.split():\\n    if info.startswith(\\'#\\') and info[1:].isdigit() == False:      \\n        res.append(info)\\n        \\nprint(*res, sep=\\', \\') \\n\\n\\n<Комментарий эксперта>: Вы забыли поставить скобки в методе .split().\n",
        "\n",
        "\"\"\"\n",
        "\n",
        "answers_test = []\n",
        "for index, row in tqdm(new_test_df.iloc[:5].iterrows()):\n",
        "  prompt = row['prompt']\n",
        "  messages = [\n",
        "    {\"role\": \"system\", \"content\": system_prompt},\n",
        "    {\"role\": \"user\", \"content\": prompt},\n",
        "  ]\n",
        "  answer = pipe(messages, max_length=6048)[0]['generated_text'][-1]['content']\n",
        "  answers_test.append(answer)"
      ],
      "metadata": {
        "id": "tmcoumKgr9pE"
      },
      "execution_count": null,
      "outputs": []
    },
    {
      "cell_type": "code",
      "source": [
        "len(answers_test)"
      ],
      "metadata": {
        "id": "YW2sGk7osGXe"
      },
      "execution_count": null,
      "outputs": []
    },
    {
      "cell_type": "code",
      "source": [
        "answer_test = pd.DataFrame(answers_test)"
      ],
      "metadata": {
        "id": "YUdK07kisGbD"
      },
      "execution_count": null,
      "outputs": []
    },
    {
      "cell_type": "code",
      "source": [
        "answer_test.sample(2)"
      ],
      "metadata": {
        "id": "ClFjs3sssGdJ"
      },
      "execution_count": null,
      "outputs": []
    },
    {
      "cell_type": "code",
      "source": [
        "for index, row in answer_test.iterrows():\n",
        "    if '<Комментарий эксперта>:' in row[0]:\n",
        "        row[0] = row[0][24:]"
      ],
      "metadata": {
        "id": "-QHrK_N5sGgA"
      },
      "execution_count": null,
      "outputs": []
    },
    {
      "cell_type": "code",
      "source": [
        "#answer_test.to_csv('inference2time_without_training.csv')"
      ],
      "metadata": {
        "id": "f8j4kW9gsGiO"
      },
      "execution_count": null,
      "outputs": []
    },
    {
      "cell_type": "code",
      "source": [
        "from typing import Callable\n",
        "\n",
        "import pandas as pd\n",
        "import torch\n",
        "from transformers import BertModel, BertTokenizer\n",
        "\n",
        "print(\"Loading models...\", end=\"\")\n",
        "model_name = \"DeepPavlov/rubert-base-cased-sentence\"\n",
        "emb_tokenizer = BertTokenizer.from_pretrained(model_name)\n",
        "emb_model = BertModel.from_pretrained(model_name)\n",
        "print(\"OK\")\n",
        "\n",
        "\n",
        "def get_sentence_embedding(sentence: str) -> torch.Tensor:\n",
        "    inputs = emb_tokenizer(sentence, return_tensors=\"pt\", truncation=True, padding=True, max_length=128)\n",
        "    with torch.no_grad():\n",
        "        outputs = emb_model(**inputs)\n",
        "        embedding = outputs.last_hidden_state[:, 0, :].squeeze()\n",
        "    return embedding\n",
        "\n",
        "\n",
        "def string2embedding(string: str) -> torch.Tensor:\n",
        "    return torch.Tensor([float(i) for i in string.split()])\n",
        "\n",
        "\n",
        "def embedding2string(embedding: torch.Tensor) -> str:\n",
        "    return \" \".join([str(i) for i in embedding.tolist()])\n",
        "\n",
        "\n",
        "def generate_submit(test_solutions: str, predict_func: Callable, save_path: str, use_tqdm: bool = True) -> None:\n",
        "    bar = range(len(test_solutions))\n",
        "    if use_tqdm:\n",
        "        import tqdm\n",
        "\n",
        "        bar = tqdm.tqdm(bar, desc=\"Predicting\")\n",
        "\n",
        "    submit_df = pd.DataFrame(columns=[\"solution_id\", \"author_comment\", \"author_comment_embedding\"])\n",
        "    for i in bar:\n",
        "        idx = test_solutions.id.iloc[i]\n",
        "        solution_row = test_solutions.prompt.iloc[i]\n",
        "        text = predict_func(solution_row)  # here you can do absolute whatever you want\n",
        "        embedding = embedding2string(get_sentence_embedding(text))\n",
        "        submit_df.loc[i] = [idx, text, embedding]\n",
        "    submit_df.to_csv(save_path, index=False)"
      ],
      "metadata": {
        "id": "vQlpC3npr9qn"
      },
      "execution_count": null,
      "outputs": []
    },
    {
      "cell_type": "code",
      "source": [
        "def predict(prompt):\n",
        "    messages = [\n",
        "    {\"role\": \"system\", \"content\": system_prompt},\n",
        "    {\"role\": \"user\", \"content\": prompt},\n",
        "    ]\n",
        "    answer = pipe(messages, max_length=6048)[0]['generated_text'][-1]['content']\n",
        "    #if '<Комментарий эксперта>:' in answer:\n",
        "    #    answer = answer[24:] ########################\n",
        "    return answer"
      ],
      "metadata": {
        "id": "ZsK2Shk3sPCM"
      },
      "execution_count": null,
      "outputs": []
    },
    {
      "cell_type": "code",
      "source": [
        "generate_submit(\n",
        "        test_solutions=new_test_df,\n",
        "        predict_func=predict,\n",
        "        save_path=\"submit4_emae.csv\",\n",
        "        use_tqdm=True,\n",
        ")"
      ],
      "metadata": {
        "id": "cAqRXCrhsPFQ"
      },
      "execution_count": null,
      "outputs": []
    },
    {
      "cell_type": "code",
      "source": [
        "df = pd.read_csv(path + \"submit4_emae.csv\")\n",
        "df.head()"
      ],
      "metadata": {
        "id": "I7bu4t7OsPHd"
      },
      "execution_count": null,
      "outputs": []
    },
    {
      "cell_type": "code",
      "source": [],
      "metadata": {
        "id": "id4bQUYuqk3-"
      },
      "execution_count": null,
      "outputs": []
    },
    {
      "cell_type": "code",
      "source": [],
      "metadata": {
        "id": "PT6EyUpisam7"
      },
      "execution_count": null,
      "outputs": []
    },
    {
      "cell_type": "code",
      "source": [],
      "metadata": {
        "id": "f9oOs9vksaqD"
      },
      "execution_count": null,
      "outputs": []
    }
  ]
}